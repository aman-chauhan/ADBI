{
 "cells": [
  {
   "cell_type": "markdown",
   "metadata": {
    "colab_type": "text",
    "id": "S-fSL1r2fQ7Z"
   },
   "source": [
    "We will use the Industrial Optical Inspection Dataset. \n",
    "The blocks given below will help you copy and unzip the data from google drive.\n",
    "\n",
    "---\n",
    "\n",
    "\n",
    "The dataset description can be found here : https://hci.iwr.uni-heidelberg.de/node/3616"
   ]
  },
  {
   "cell_type": "markdown",
   "metadata": {
    "colab_type": "text",
    "id": "DymbI5OJIuFF"
   },
   "source": [
    "# Google Colab\n",
    "Set the Runtime to GPU from the menu on the top left of this webpage\n",
    "\n",
    "Importing data to Google Colab"
   ]
  },
  {
   "cell_type": "code",
   "execution_count": 1,
   "metadata": {
    "colab": {
     "base_uri": "https://localhost:8080/",
     "height": 127
    },
    "colab_type": "code",
    "id": "zDP8dGDEfHM2",
    "outputId": "299c9bf2-b8f3-4cbd-ac60-058371c7039b"
   },
   "outputs": [
    {
     "name": "stdout",
     "output_type": "stream",
     "text": [
      "Go to this URL in a browser: https://accounts.google.com/o/oauth2/auth?client_id=947318989803-6bn6qk8qdgf4n4g3pfee6491hc0brc4i.apps.googleusercontent.com&redirect_uri=urn%3Aietf%3Awg%3Aoauth%3A2.0%3Aoob&scope=email%20https%3A%2F%2Fwww.googleapis.com%2Fauth%2Fdocs.test%20https%3A%2F%2Fwww.googleapis.com%2Fauth%2Fdrive%20https%3A%2F%2Fwww.googleapis.com%2Fauth%2Fdrive.photos.readonly%20https%3A%2F%2Fwww.googleapis.com%2Fauth%2Fpeopleapi.readonly&response_type=code\n",
      "\n",
      "Enter your authorization code:\n",
      "··········\n",
      "Mounted at /content/gdrive\n"
     ]
    }
   ],
   "source": [
    "from google.colab import drive\n",
    "drive.mount('/content/gdrive')"
   ]
  },
  {
   "cell_type": "code",
   "execution_count": 0,
   "metadata": {
    "colab": {},
    "colab_type": "code",
    "id": "3on7wPL6mBF2"
   },
   "outputs": [],
   "source": [
    "# Copy data to google colab from google drive and unzip\n",
    "# This may take 1-2 minutes\n",
    "!cp gdrive/My\\ Drive/optical_data.zip .\n",
    "!unzip -q optical_data.zip"
   ]
  },
  {
   "cell_type": "code",
   "execution_count": 3,
   "metadata": {
    "colab": {
     "base_uri": "https://localhost:8080/",
     "height": 35
    },
    "colab_type": "code",
    "id": "w_-5AVwxm7d5",
    "outputId": "6f7a2942-4b60-4a0f-edab-1475b3111555"
   },
   "outputs": [
    {
     "name": "stdout",
     "output_type": "stream",
     "text": [
      "Class1\tClass2\tClass3\tClass4\tClass5\tClass6\tClass7\n"
     ]
    }
   ],
   "source": [
    "# You should be able to see 7 Classes here\n",
    "!ls data"
   ]
  },
  {
   "cell_type": "markdown",
   "metadata": {
    "colab_type": "text",
    "id": "HkvMl2Mt-BrB"
   },
   "source": [
    "Sample Output : Class1 Class2\tClass3\tClass4\tClass5\tClass6\tClass7"
   ]
  },
  {
   "cell_type": "markdown",
   "metadata": {
    "colab_type": "text",
    "id": "H-GSOCv7ImGM"
   },
   "source": [
    "# Main Notebook"
   ]
  },
  {
   "cell_type": "code",
   "execution_count": 1,
   "metadata": {
    "colab": {
     "base_uri": "https://localhost:8080/",
     "height": 35
    },
    "colab_type": "code",
    "id": "2p453M9kewcU",
    "outputId": "fc9ec91c-37b8-4932-f669-48bcbe6dfb0a"
   },
   "outputs": [
    {
     "name": "stderr",
     "output_type": "stream",
     "text": [
      "Using TensorFlow backend.\n"
     ]
    }
   ],
   "source": [
    "import os\n",
    "import sys\n",
    "import time\n",
    "import warnings\n",
    "from random import shuffle\n",
    "\n",
    "import numpy as np\n",
    "import pandas as pd\n",
    "from sklearn.model_selection import train_test_split\n",
    "from keras.callbacks import ModelCheckpoint, EarlyStopping\n",
    "from keras.optimizers import Adam\n",
    "from tensorflow.python.lib.io import file_io\n",
    "from skimage.transform import resize\n",
    "import numpy as np\n",
    "import keras\n",
    "from keras import backend as K\n",
    "import cv2\n",
    "\n",
    "warnings.filterwarnings(\"ignore\")\n"
   ]
  },
  {
   "cell_type": "markdown",
   "metadata": {
    "colab_type": "text",
    "id": "P6Rilzb2Lnhz"
   },
   "source": [
    "# Data Loading"
   ]
  },
  {
   "cell_type": "code",
   "execution_count": 0,
   "metadata": {
    "colab": {},
    "colab_type": "code",
    "id": "PFUOmRq1hChy"
   },
   "outputs": [],
   "source": [
    "# Not all data in the dataset has defects. We only use the images which have defects\n",
    "# This function takes the dataset_type as a parameter. You can pass \"Train\" or \"Test\"\n",
    "# as argument to get the appropriate dataset\n",
    "def load_data(dataset_type=\"Train\"):\n",
    "    file_list = {}\n",
    "    defect_map = {}\n",
    "    file_name = []\n",
    "    file_mask = []\n",
    "    count = 0\n",
    "    num_classes = 6\n",
    "\n",
    "    data_dir = \"data\"\n",
    "    for x in range(1, num_classes + 1):\n",
    "        path = os.path.join(os.path.join(data_dir, \"Class\" + str(x)), dataset_type)\n",
    "        df = pd.read_fwf(path + \"/Label/Labels.txt\")\n",
    "        count = 0\n",
    "        for i in range(0, len(df)):\n",
    "            curr_file = path + \"/\" + str(df.iloc[i][2])\n",
    "            if (df.iloc[i][1] == 1):\n",
    "                file_list[curr_file] = path + \"/Label/\" + str(df.iloc[i][4])\n",
    "                defect_map[curr_file] = 1\n",
    "            else:\n",
    "                fnametest = str(df.iloc[i][2]).split(\".\")\n",
    "                file_list[curr_file] = str(path + \"/Label/\" + fnametest[0] + \"_label.PNG\")\n",
    "                defect_map[curr_file] = 0\n",
    "\n",
    "    items = list(file_list.keys())\n",
    "    shuffle(items)\n",
    "    for key in items:\n",
    "        if ((not os.path.exists(key)) or (not os.path.exists(file_list[key]))):\n",
    "            # print (\"Missing mask for \", key)\n",
    "            continue\n",
    "\n",
    "        if defect_map[key] == 1:\n",
    "            file_name.append(key)\n",
    "            file_mask.append(file_list[key])\n",
    "        elif count < 80 * num_classes:\n",
    "            file_name.append(key)\n",
    "            file_mask.append(file_list[key])\n",
    "            count = count + 1\n",
    "\n",
    "    return file_name, file_mask"
   ]
  },
  {
   "cell_type": "markdown",
   "metadata": {
    "colab_type": "text",
    "id": "YMvNNG8nLq1N"
   },
   "source": [
    "Since the dataset is so large that it cannot fit into memory, we will need to use generator functions to iteratively load the dataset"
   ]
  },
  {
   "cell_type": "code",
   "execution_count": 0,
   "metadata": {
    "colab": {},
    "colab_type": "code",
    "id": "0AO5Je2_iyjI"
   },
   "outputs": [],
   "source": [
    "# This is generator class to process data in batches and send them for training\n",
    "class Surface_Generator(keras.utils.Sequence):\n",
    "\n",
    "    def __init__(self, image_filenames, labels, batch_size, test=False):\n",
    "        self.image_filenames, self.labels = image_filenames, labels\n",
    "        self.batch_size = batch_size\n",
    "\n",
    "    # return the total number of batches you have i.e., total_files/batch_size\n",
    "    def __len__(self):\n",
    "        return int(np.floor(len(self.image_filenames) / self.batch_size))\n",
    "\n",
    "    # this function is called for every mini-batch to get the images/masks for that mini-batch\n",
    "    def __getitem__(self, idx):\n",
    "        batch_x = self.image_filenames[idx * self.batch_size:(idx + 1) * self.batch_size]\n",
    "        batch_y = self.labels[idx * self.batch_size:(idx + 1) * self.batch_size]\n",
    "        image_arr = []\n",
    "        mask_arr = []\n",
    "        # Open a batch of images and their corresponding masks using cv2.imread\n",
    "        # resize them to 512x512x1 and return an np.array of images and masks\n",
    "        for i in range(len(batch_x)):\n",
    "            img = np.expand_dims(cv2.imread(batch_x[i], 0), axis=-1)\n",
    "            if img.shape[:2] != (512, 512):\n",
    "                img = resize(img, (512, 512), mode='constant', clip=True, preserve_range=True)\n",
    "            mask = np.expand_dims(cv2.imread(batch_y[i], 0), axis=-1)\n",
    "            if mask.shape[:2] != (512, 512):\n",
    "                mask = resize(mask, (512, 512), mode='constant', clip=True, preserve_range=True)\n",
    "            mask[mask==255]=1\n",
    "            image_arr.append(img.tolist())\n",
    "            mask_arr.append(mask.tolist())\n",
    "\n",
    "        return np.array(image_arr).astype(np.float32), np.array(mask_arr).astype(np.float32)\n",
    "    \n",
    "    # for testing we need to get the list of all true masks\n",
    "    # this function should return all the labels in the dataset set \n",
    "    # we will call this function only for the \"Test\" dataset\n",
    "    def get_all_masks(self):\n",
    "        mask_arr = []\n",
    "        \n",
    "        for i in range(len(self.labels)):\n",
    "            mask = np.expand_dims(cv2.imread(self.labels[i], 0), axis=-1)\n",
    "            if mask.shape[:2] != (512, 512):\n",
    "                mask = resize(mask, (512, 512), mode='constant', clip=True, preserve_range=True)\n",
    "            mask[mask==255]=1\n",
    "            mask_arr.append(mask.tolist())\n",
    "\n",
    "        return np.array(mask_arr).astype(np.float32)"
   ]
  },
  {
   "cell_type": "code",
   "execution_count": 0,
   "metadata": {
    "colab": {},
    "colab_type": "code",
    "id": "dt-r8DWtiXb8"
   },
   "outputs": [],
   "source": [
    "# Since we already have a split for training and test set,\n",
    "# we just need to split training set to get a validation set\n",
    "\n",
    "# Load training data\n",
    "X, Y = load_data(\"Train\")"
   ]
  },
  {
   "cell_type": "code",
   "execution_count": 5,
   "metadata": {
    "colab": {
     "base_uri": "https://localhost:8080/",
     "height": 35
    },
    "colab_type": "code",
    "id": "yCCf5m26iZ4-",
    "outputId": "24eed644-1c39-4082-f695-9b18d456f19d"
   },
   "outputs": [
    {
     "name": "stdout",
     "output_type": "stream",
     "text": [
      "(740,) (740,) (186,) (186,)\n"
     ]
    }
   ],
   "source": [
    "# Split the original training data to get training and validation set\n",
    "# to get X_train, X_val, y_train, y_val\n",
    "X_train, X_val, y_train, y_val = train_test_split(X, Y, test_size=0.2, random_state=42, shuffle=True)\n",
    "\n",
    "\n",
    "# Convert to numpy arrays\n",
    "X_train = np.asarray(X_train)\n",
    "X_val = np.asarray(X_val)\n",
    "y_train = np.asarray(y_train)\n",
    "y_val = np.asarray(y_val)\n",
    "\n",
    "print(X_train.shape, y_train.shape, X_val.shape, y_val.shape)"
   ]
  },
  {
   "cell_type": "markdown",
   "metadata": {
    "colab_type": "text",
    "id": "pzVG7OlIKzPC"
   },
   "source": [
    "The output shape after the split should be \n",
    "(740,) (740,) (186,) (186,)"
   ]
  },
  {
   "cell_type": "code",
   "execution_count": 6,
   "metadata": {
    "colab": {
     "base_uri": "https://localhost:8080/",
     "height": 35
    },
    "colab_type": "code",
    "id": "TuWAS7_Qt7xw",
    "outputId": "9a45bd24-d54d-46f5-bea3-708d1a10c257"
   },
   "outputs": [
    {
     "data": {
      "text/plain": [
       "502"
      ]
     },
     "execution_count": 6,
     "metadata": {
      "tags": []
     },
     "output_type": "execute_result"
    }
   ],
   "source": [
    "# Free memory\n",
    "import gc\n",
    "del X\n",
    "del Y\n",
    "gc.collect()"
   ]
  },
  {
   "cell_type": "markdown",
   "metadata": {
    "colab_type": "text",
    "id": "Pg95L-qULPUY"
   },
   "source": [
    "# Metrics\n",
    "\n",
    "Use keras.backend to calculate dice coefficient metric and dice coefficient loss function.\n",
    "\n",
    "Recall that dice_coeff = 2 \\* intersection / union\n",
    "\n",
    "We add a smoothing parameter and modify the formula to\n",
    "\n",
    "dice_coeff = 2 \\* (intersection + smooth) / (union + smooth)\n",
    "\n",
    "Our objective is to make dice_coeff as close to 1.0 as possible. \n",
    "Define and use the appropriate loss function."
   ]
  },
  {
   "cell_type": "code",
   "execution_count": 0,
   "metadata": {
    "colab": {},
    "colab_type": "code",
    "id": "JwdFSKS-jB8S"
   },
   "outputs": [],
   "source": [
    "# Dice Coefficient metric\n",
    "def dice_coef(y_true, y_pred):\n",
    "    smooth = 1\n",
    "    true_f = K.flatten(y_true)\n",
    "    pred_f = K.flatten(y_pred)\n",
    "    return (2. * (K.sum(true_f * pred_f)) + smooth)/(K.sum(true_f) + K.sum(pred_f) + smooth)\n",
    "\n",
    "\n",
    "# Dice Coefficient loss\n",
    "def dice_coef_loss(y_true, y_pred):\n",
    "    return 1 - dice_coef(y_true, y_pred)"
   ]
  },
  {
   "cell_type": "markdown",
   "metadata": {
    "colab_type": "text",
    "id": "Pynq8QkQMQfV"
   },
   "source": [
    "# Model\n",
    "\n",
    "U-net architeture has proved to be very powerful for segmentation tasks.\n",
    "\n",
    "We will be creating a Unet model based on the paper : \n",
    "\n",
    "[U-Net: Convolutional Networks for Biomedical Image Segmentation](https://arxiv.org/pdf/1505.04597.pdf)\n",
    "\n",
    "---\n",
    "\n",
    "A picture of the architecture we plan to use is provided in the project description pdf.\n",
    "\n",
    "We will create a Convolutional block module to help us build the model.\n",
    "\n",
    "Each convolutional block module will contain two trainable layers. \n",
    "\n",
    "Each layer will be a Convolution operation followed by batch normalization with relu activation.\n",
    "\n",
    "\n",
    "\n",
    "The U-net architecture has a contracting path, a convolution and then an expansive path.\n",
    "\n",
    "We will use instances of the convolutional block to create the contracting and expansive path."
   ]
  },
  {
   "cell_type": "code",
   "execution_count": 0,
   "metadata": {
    "colab": {},
    "colab_type": "code",
    "id": "NmHn08ChjWNq"
   },
   "outputs": [],
   "source": [
    "from keras.layers import Conv2DTranspose, Dropout, Activation, BatchNormalization, UpSampling2D, Concatenate\n",
    "from keras.layers import Input, Conv2D, MaxPooling2D, concatenate\n",
    "from keras.models import Model\n",
    "\n",
    "# Create a 2D convolution block. We will use multiple instances of this block to build our U-net model\n",
    "# This block will contain two layers. \n",
    "# Each layer will be a Convolution operation followed by batch normalization with relu activation \n",
    "def conv2d_block(input_tensor, n_filters, kernel_size):\n",
    "    # first layer\n",
    "    # Create a Conv2D layer with n_filters and a kernel of dimension : kernel_size x kernel_size. \n",
    "    # Use same padding and he_normal initializer\n",
    "    x = Conv2D(filters=n_filters, kernel_size=kernel_size, padding='same',\n",
    "               kernel_initializer='he_normal', bias_initializer='he_normal')(input_tensor)\n",
    "    \n",
    "    # add a BatchNormalization layer\n",
    "    x = BatchNormalization()(x)\n",
    "        \n",
    "    # Add a relu non-linearity (keras.layers.Activation)\n",
    "    x = Activation(activation='relu')(x)\n",
    "    \n",
    "    # second layer\n",
    "    # repeat the above steps (Conv + batchnorm + relu) taking the output of relu layer as input for this layer\n",
    "    x = Conv2D(filters=n_filters, kernel_size=kernel_size, padding='same',\n",
    "               kernel_initializer='he_normal', bias_initializer='he_normal')(x)\n",
    "    x = BatchNormalization()(x)\n",
    "    x = Activation(activation='relu')(x)\n",
    "    # return the output tensor\n",
    "    return x\n",
    "\n",
    "\n",
    "def get_unet_model(n_filters=16, dropout_prob=0.5, kernel_size=3):\n",
    "    input_img = Input((512, 512, 1))\n",
    "    \n",
    "    # contracting path\n",
    "    # create a convolutional block with input_img as the input tensor and n_filters\n",
    "    c1 = conv2d_block(input_img, n_filters, kernel_size)\n",
    "\n",
    "    # apply a 2d maxpooling with a pool size of 2x2\n",
    "    p1 = MaxPooling2D(pool_size=(2, 2))(c1)\n",
    "\n",
    "    # add a dropout. Since this the input, set the dropout rate to 0.5 * dropout_prob\n",
    "    p1 = Dropout(rate=0.5 * dropout_prob)(p1)\n",
    "\n",
    "\n",
    "    # create another convolutional block. this time use p1 as input tensor and twice the n_filters\n",
    "    # repeat the same maxpool and dropout but set dropout rate to dropout_prob this time\n",
    "    c2 = conv2d_block(p1, n_filters * 2, kernel_size)\n",
    "    p2 = MaxPooling2D(pool_size=(2, 2))(c2)\n",
    "    p2 = Dropout(rate=dropout_prob)(p2)\n",
    "\n",
    "    # create another block with maxpool and dropout with 4 x n_filters\n",
    "    c3 = conv2d_block(p2, n_filters * 4, kernel_size)\n",
    "    p3 = MaxPooling2D(pool_size=(2, 2))(c3)\n",
    "    p3 = Dropout(rate=dropout_prob)(p3)\n",
    "\n",
    "    # create another block with maxpool and dropout with 8 x n_filters\n",
    "    c4 = conv2d_block(p3, n_filters * 8, kernel_size)\n",
    "    p4 = MaxPooling2D(pool_size=(2, 2))(c4)\n",
    "    p4 = Dropout(rate=dropout_prob)(p4)\n",
    "\n",
    "\n",
    "    # This is the layer where we combine the contractive and expansive paths\n",
    "    # create a convolutional block with 16 x n_filters. No pooling/dropout this time\n",
    "    c5 = conv2d_block(p4, n_filters * 16, kernel_size)\n",
    "\n",
    "    \n",
    "    # Expansive path\n",
    "\n",
    "    # We will create a similar structure as the contracting path but instead of \n",
    "    # convolutional operation, we will use Deconvolution operations\n",
    "\n",
    "    # Create a Conv2DTranspose layer (deconvolution) with 8 x n_filters, kernel_size, \n",
    "    # 2x2 strides and same padding\n",
    "    u6 = Conv2DTranspose(filters=n_filters * 8, kernel_size=kernel_size, strides=2, padding='same',\n",
    "                         kernel_initializer='he_uniform', bias_initializer='he_uniform')(c5)\n",
    "\n",
    "    # Concatenate u6 and c4 using keras.layers.concatenate\n",
    "    # YOUR CODE HERE\n",
    "    u6 = concatenate([u6, c4])\n",
    "    \n",
    "    # dropout\n",
    "    # YOUR CODE HERE\n",
    "    u6 = Dropout(rate=dropout_prob)(u6)\n",
    "    \n",
    "    # create a convolutional block with 8 x n_filters\n",
    "    # YOUR CODE HERE\n",
    "    c6 = conv2d_block(u6, n_filters * 8, kernel_size)\n",
    "    \n",
    "\n",
    "    # Create a similar module as previous, deconv, concatenate, dropout, conv2d_block\n",
    "    # Please ensure that the number of filters you use match the n_filters of \n",
    "    # the layer you are concatenating with\n",
    "    u7 = Conv2DTranspose(filters=n_filters * 4, kernel_size=kernel_size, strides=2, padding='same',\n",
    "                         kernel_initializer='he_uniform', bias_initializer='he_uniform')(c6)\n",
    "    u7 = concatenate([u7, c3])\n",
    "    u7 = Dropout(rate=dropout_prob)(u7)\n",
    "    c7 = conv2d_block(u7, n_filters * 4, kernel_size)\n",
    "    \n",
    "    # Create a similar module as previous, deconv, concatenate, dropout, conv2d_block\n",
    "    u8 = Conv2DTranspose(filters=n_filters * 2, kernel_size=kernel_size, strides=2, padding='same',\n",
    "                         kernel_initializer='he_uniform', bias_initializer='he_uniform')(c7)\n",
    "    u8 = concatenate([u8, c2])\n",
    "    u8 = Dropout(rate=dropout_prob)(u8)\n",
    "    c8 = conv2d_block(u8, n_filters * 2, kernel_size)\n",
    "\n",
    "\n",
    "    # Create a similar module as previous, deconv, concatenate, dropout, conv2d_block\n",
    "    # YOUR CODE HERE\n",
    "    u9 = Conv2DTranspose(filters=n_filters, kernel_size=kernel_size, strides=2, padding='same',\n",
    "                         kernel_initializer='he_uniform', bias_initializer='he_uniform')(c8)\n",
    "    u9 = concatenate([u9, c1])\n",
    "    u9 = Dropout(rate=dropout_prob)(u9)\n",
    "    c9 = conv2d_block(u9, n_filters, kernel_size)\n",
    "\n",
    "    # apply a 1x1 convolution on c9 to get an output with a single channel\n",
    "    # This is the final model output. We want the pixel values in the mask to be\n",
    "    # either 0 or 1. Choose an activation function which can give values in that\n",
    "    # range.\n",
    "    outputs = Conv2D(filters=1, kernel_size=1, padding='same',\n",
    "                     kernel_initializer='he_normal', bias_initializer='he_normal')(c9)\n",
    "\n",
    "    model = Model(inputs=[input_img], outputs=[outputs])\n",
    "\n",
    "    return model"
   ]
  },
  {
   "cell_type": "code",
   "execution_count": 6,
   "metadata": {
    "colab": {
     "base_uri": "https://localhost:8080/",
     "height": 145
    },
    "colab_type": "code",
    "id": "9JBg48_qiQ_R",
    "outputId": "dae59b56-cd33-4b0b-adc6-18a97cfea729"
   },
   "outputs": [
    {
     "name": "stdout",
     "output_type": "stream",
     "text": [
      "WARNING:tensorflow:From /usr/local/lib/python3.6/dist-packages/tensorflow/python/framework/op_def_library.py:263: colocate_with (from tensorflow.python.framework.ops) is deprecated and will be removed in a future version.\n",
      "Instructions for updating:\n",
      "Colocations handled automatically by placer.\n",
      "WARNING:tensorflow:From /usr/local/lib/python3.6/dist-packages/keras/backend/tensorflow_backend.py:3445: calling dropout (from tensorflow.python.ops.nn_ops) with keep_prob is deprecated and will be removed in a future version.\n",
      "Instructions for updating:\n",
      "Please use `rate` instead of `keep_prob`. Rate should be set to `rate = 1 - keep_prob`.\n"
     ]
    }
   ],
   "source": [
    "model_name = \"unet\"\n",
    "model = get_unet_model()"
   ]
  },
  {
   "cell_type": "code",
   "execution_count": 0,
   "metadata": {
    "colab": {},
    "colab_type": "code",
    "id": "motKXf_TiUKg"
   },
   "outputs": [],
   "source": [
    "batch_size = 8\n",
    "num_epochs = 50\n",
    "# Compile the model\n",
    "model.compile(loss=dice_coef_loss, optimizer=Adam(lr=0.0055), metrics=[dice_coef])"
   ]
  },
  {
   "cell_type": "code",
   "execution_count": 0,
   "metadata": {
    "colab": {},
    "colab_type": "code",
    "id": "ewQjQjWyqq-e"
   },
   "outputs": [],
   "source": [
    "# Create generator objects for training and validation\n",
    "num_training_samples = len(X_train)\n",
    "num_validation_samples = len(X_val)\n",
    "training_batch_generator = Surface_Generator(X_train, y_train, batch_size)\n",
    "validation_batch_generator = Surface_Generator(X_val, y_val, batch_size)"
   ]
  },
  {
   "cell_type": "code",
   "execution_count": 0,
   "metadata": {
    "colab": {},
    "colab_type": "code",
    "id": "_otO9PPuq2ED"
   },
   "outputs": [],
   "source": [
    "# OPTIONAL\n",
    "# callbacks for saving models and early stopping\n",
    "checkpointer = ModelCheckpoint(model_name + \"/weights.{epoch:02d}-{val_loss:.2f}.hdf5\", monitor=dice_coef, verbose=1,\n",
    "                               save_best_only=True, mode='max')\n",
    "early_stopping = EarlyStopping(monitor='val_loss', min_delta=0, patience=10, verbose=1, mode='auto')"
   ]
  },
  {
   "cell_type": "code",
   "execution_count": 15,
   "metadata": {
    "colab": {
     "base_uri": "https://localhost:8080/",
     "height": 2035
    },
    "colab_type": "code",
    "id": "63cNn_B6q4fb",
    "outputId": "926c7267-77a2-449c-c3de-00018d74d22f"
   },
   "outputs": [
    {
     "name": "stdout",
     "output_type": "stream",
     "text": [
      "Epoch 1/50\n",
      "91/92 [============================>.] - ETA: 3s - loss: 0.8126 - dice_coef: 0.1874\n",
      "92/92 [==============================] - 436s 5s/step - loss: 0.8142 - dice_coef: 0.1858 - val_loss: 0.9808 - val_dice_coef: 0.0192\n",
      "Epoch 2/50\n",
      "92/92 [==============================] - 412s 4s/step - loss: 0.9113 - dice_coef: 0.0887 - val_loss: 1.0635 - val_dice_coef: -0.0635\n",
      "Epoch 3/50\n",
      "92/92 [==============================] - 413s 4s/step - loss: 0.0249 - dice_coef: 0.9751 - val_loss: 0.9753 - val_dice_coef: 0.0247\n",
      "Epoch 4/50\n",
      "91/92 [============================>.] - ETA: 3s - loss: 0.9802 - dice_coef: 0.0198\n",
      "92/92 [==============================] - 416s 5s/step - loss: 0.9797 - dice_coef: 0.0203 - val_loss: 0.9785 - val_dice_coef: 0.0215\n",
      "Epoch 5/50\n",
      "92/92 [==============================] - 417s 5s/step - loss: 0.9700 - dice_coef: 0.0300 - val_loss: 0.9473 - val_dice_coef: 0.0527\n",
      "Epoch 6/50\n",
      "91/92 [============================>.] - ETA: 3s - loss: 0.9783 - dice_coef: 0.0217Epoch 6/50\n",
      "92/92 [==============================] - 409s 4s/step - loss: 0.9788 - dice_coef: 0.0212 - val_loss: 0.9661 - val_dice_coef: 0.0339\n",
      "Epoch 7/50\n",
      "92/92 [==============================] - 409s 4s/step - loss: 0.9803 - dice_coef: 0.0197 - val_loss: 0.9456 - val_dice_coef: 0.0544\n",
      "Epoch 8/50\n",
      "92/92 [==============================] - 408s 4s/step - loss: 0.9769 - dice_coef: 0.0231 - val_loss: 0.8970 - val_dice_coef: 0.1030\n",
      "Epoch 9/50\n",
      "92/92 [==============================] - 410s 4s/step - loss: 0.9724 - dice_coef: 0.0276 - val_loss: 0.9509 - val_dice_coef: 0.0491\n",
      "Epoch 10/50\n",
      "92/92 [==============================] - 411s 4s/step - loss: 0.9672 - dice_coef: 0.0328 - val_loss: 0.9437 - val_dice_coef: 0.0563\n",
      "Epoch 11/50\n",
      "92/92 [==============================] - 408s 4s/step - loss: 0.9615 - dice_coef: 0.0385 - val_loss: 1.0444 - val_dice_coef: -0.0444\n",
      "Epoch 12/50\n",
      "92/92 [==============================] - 408s 4s/step - loss: 0.9557 - dice_coef: 0.0443 - val_loss: 0.8481 - val_dice_coef: 0.1519\n",
      "Epoch 13/50\n",
      "92/92 [==============================] - 412s 4s/step - loss: 0.9178 - dice_coef: 0.0822 - val_loss: 1.0654 - val_dice_coef: -0.0654\n",
      "Epoch 14/50\n",
      "92/92 [==============================] - 409s 4s/step - loss: 0.8902 - dice_coef: 0.1098 - val_loss: 0.9681 - val_dice_coef: 0.0319\n",
      "Epoch 15/50\n",
      "92/92 [==============================] - 415s 5s/step - loss: 0.8819 - dice_coef: 0.1181 - val_loss: 0.9916 - val_dice_coef: 0.0084\n",
      "Epoch 16/50\n",
      "91/92 [============================>.] - ETA: 3s - loss: 0.9553 - dice_coef: 0.0447Epoch 16/50\n",
      "92/92 [==============================] - 410s 4s/step - loss: 0.9520 - dice_coef: 0.0480 - val_loss: 0.9674 - val_dice_coef: 0.0326\n",
      "Epoch 17/50\n",
      "92/92 [==============================] - 410s 4s/step - loss: 0.8133 - dice_coef: 0.1867 - val_loss: 0.9617 - val_dice_coef: 0.0383\n",
      "Epoch 18/50\n",
      "91/92 [============================>.] - ETA: 3s - loss: 0.8594 - dice_coef: 0.1406Epoch 18/50\n",
      "92/92 [==============================] - 414s 5s/step - loss: 0.8601 - dice_coef: 0.1399 - val_loss: 0.9798 - val_dice_coef: 0.0202\n",
      "Epoch 19/50\n",
      "92/92 [==============================] - 414s 4s/step - loss: 0.9055 - dice_coef: 0.0945 - val_loss: 0.9626 - val_dice_coef: 0.0374\n",
      "Epoch 20/50\n",
      "91/92 [============================>.] - ETA: 3s - loss: 0.6034 - dice_coef: 0.3966Epoch 20/50\n",
      "92/92 [==============================] - 414s 5s/step - loss: 0.6075 - dice_coef: 0.3925 - val_loss: 0.9030 - val_dice_coef: 0.0970\n",
      "Epoch 21/50\n",
      "92/92 [==============================] - 418s 5s/step - loss: 0.5428 - dice_coef: 0.4572 - val_loss: 0.7933 - val_dice_coef: 0.2067\n",
      "Epoch 22/50\n",
      "92/92 [==============================] - 415s 5s/step - loss: 0.5279 - dice_coef: 0.4721 - val_loss: 0.5795 - val_dice_coef: 0.4205\n",
      "Epoch 23/50\n",
      "92/92 [==============================] - 416s 5s/step - loss: 0.5202 - dice_coef: 0.4798 - val_loss: 0.5359 - val_dice_coef: 0.4641\n",
      "Epoch 24/50\n",
      "92/92 [==============================] - 421s 5s/step - loss: 0.5131 - dice_coef: 0.4869 - val_loss: 0.5230 - val_dice_coef: 0.4770\n",
      "Epoch 25/50\n",
      "92/92 [==============================] - 413s 4s/step - loss: 0.5094 - dice_coef: 0.4906 - val_loss: 0.5296 - val_dice_coef: 0.4704\n",
      "Epoch 26/50\n",
      "91/92 [============================>.] - ETA: 3s - loss: 0.5081 - dice_coef: 0.4919Epoch 26/50\n",
      "92/92 [==============================] - 416s 5s/step - loss: 0.5028 - dice_coef: 0.4972 - val_loss: 0.5039 - val_dice_coef: 0.4961\n",
      "Epoch 27/50\n",
      "92/92 [==============================] - 414s 5s/step - loss: 0.4992 - dice_coef: 0.5008 - val_loss: 0.4959 - val_dice_coef: 0.5041\n",
      "Epoch 28/50\n",
      "92/92 [==============================] - 418s 5s/step - loss: 0.4917 - dice_coef: 0.5083 - val_loss: 0.5210 - val_dice_coef: 0.4790\n",
      "Epoch 29/50\n",
      "92/92 [==============================] - 414s 5s/step - loss: 0.4843 - dice_coef: 0.5157 - val_loss: 0.4819 - val_dice_coef: 0.5181\n",
      "Epoch 30/50\n",
      "92/92 [==============================] - 417s 5s/step - loss: 0.4796 - dice_coef: 0.5204 - val_loss: 0.4903 - val_dice_coef: 0.5097\n",
      "Epoch 31/50\n",
      "92/92 [==============================] - 416s 5s/step - loss: 0.4692 - dice_coef: 0.5308 - val_loss: 0.4699 - val_dice_coef: 0.5301\n",
      "Epoch 32/50\n",
      "92/92 [==============================] - 414s 5s/step - loss: 0.4627 - dice_coef: 0.5373 - val_loss: 0.4598 - val_dice_coef: 0.5402\n",
      "Epoch 33/50\n",
      "92/92 [==============================] - 414s 5s/step - loss: 0.4561 - dice_coef: 0.5439 - val_loss: 0.4676 - val_dice_coef: 0.5324\n",
      "Epoch 34/50\n",
      "92/92 [==============================] - 421s 5s/step - loss: 0.4504 - dice_coef: 0.5496 - val_loss: 0.4516 - val_dice_coef: 0.5484\n",
      "Epoch 35/50\n",
      "92/92 [==============================] - 411s 4s/step - loss: 0.4417 - dice_coef: 0.5583 - val_loss: 0.4745 - val_dice_coef: 0.5255\n",
      "Epoch 36/50\n",
      "91/92 [============================>.] - ETA: 3s - loss: 0.4430 - dice_coef: 0.5570\n",
      "92/92 [==============================] - 413s 4s/step - loss: 0.4390 - dice_coef: 0.5610 - val_loss: 0.4677 - val_dice_coef: 0.5323\n",
      "Epoch 37/50\n",
      "92/92 [==============================] - 418s 5s/step - loss: 0.4297 - dice_coef: 0.5703 - val_loss: 0.4510 - val_dice_coef: 0.5490\n",
      "Epoch 38/50\n",
      "92/92 [==============================] - 420s 5s/step - loss: 0.4193 - dice_coef: 0.5807 - val_loss: 0.4343 - val_dice_coef: 0.5657\n",
      "Epoch 39/50\n",
      "92/92 [==============================] - 420s 5s/step - loss: 0.4105 - dice_coef: 0.5895 - val_loss: 0.4432 - val_dice_coef: 0.5568\n",
      "Epoch 40/50\n",
      "92/92 [==============================] - 416s 5s/step - loss: 0.4002 - dice_coef: 0.5998 - val_loss: 0.4246 - val_dice_coef: 0.5754\n",
      "Epoch 41/50\n",
      "92/92 [==============================] - 419s 5s/step - loss: 0.3915 - dice_coef: 0.6085 - val_loss: 0.5217 - val_dice_coef: 0.4783\n",
      "Epoch 42/50\n",
      "92/92 [==============================] - 413s 4s/step - loss: 0.3854 - dice_coef: 0.6146 - val_loss: 0.4242 - val_dice_coef: 0.5758\n",
      "Epoch 43/50\n",
      "92/92 [==============================] - 417s 5s/step - loss: 0.3673 - dice_coef: 0.6327 - val_loss: 0.5047 - val_dice_coef: 0.4953\n",
      "Epoch 44/50\n",
      "91/92 [============================>.] - ETA: 3s - loss: 0.3594 - dice_coef: 0.6406Epoch 44/50\n",
      "92/92 [==============================] - 424s 5s/step - loss: 0.3553 - dice_coef: 0.6447 - val_loss: 0.4202 - val_dice_coef: 0.5798\n",
      "Epoch 45/50\n",
      "92/92 [==============================] - 419s 5s/step - loss: 0.3389 - dice_coef: 0.6611 - val_loss: 0.4223 - val_dice_coef: 0.5777\n",
      "Epoch 46/50\n",
      "92/92 [==============================] - 420s 5s/step - loss: 0.3210 - dice_coef: 0.6790 - val_loss: 0.4560 - val_dice_coef: 0.5440\n",
      "Epoch 47/50\n",
      "92/92 [==============================] - 421s 5s/step - loss: 0.3045 - dice_coef: 0.6955 - val_loss: 0.3695 - val_dice_coef: 0.6305\n",
      "Epoch 48/50\n",
      "92/92 [==============================] - 421s 5s/step - loss: 0.2863 - dice_coef: 0.7137 - val_loss: 0.6148 - val_dice_coef: 0.3852\n",
      "Epoch 49/50\n",
      "91/92 [============================>.] - ETA: 3s - loss: 0.2655 - dice_coef: 0.7345Epoch 49/50\n",
      "92/92 [==============================] - 420s 5s/step - loss: 0.2590 - dice_coef: 0.7410 - val_loss: 0.3701 - val_dice_coef: 0.6299\n",
      "Epoch 50/50\n",
      "92/92 [==============================] - 422s 5s/step - loss: 0.2328 - dice_coef: 0.7672 - val_loss: 0.3207 - val_dice_coef: 0.6793\n",
      "Time taken:  20779647\n"
     ]
    }
   ],
   "source": [
    "# Fit model\n",
    "# This will take ~1.5-2 minutes per epoch on a GPU\n",
    "stmillis = int(round(time.time() * 1000))\n",
    "history = model.fit_generator(generator=training_batch_generator,\n",
    "                    steps_per_epoch=(num_training_samples // batch_size),\n",
    "                    epochs=num_epochs,\n",
    "                    verbose=1,\n",
    "                    validation_data=validation_batch_generator,\n",
    "                    validation_steps=(num_validation_samples // batch_size),\n",
    "                    use_multiprocessing=True,\n",
    "                    workers=5,\n",
    "                    max_queue_size=1,\n",
    "                    callbacks=[checkpointer, early_stopping])\n",
    "endmillis = int(round(time.time() * 1000))\n",
    "print(\"Time taken: \", endmillis - stmillis)"
   ]
  },
  {
   "cell_type": "code",
   "execution_count": 0,
   "metadata": {
    "colab": {},
    "colab_type": "code",
    "id": "3brG4OSvidg-"
   },
   "outputs": [],
   "source": [
    "# Save the trained weights\n",
    "model.save(model_name + \".h5\")\n",
    "\n",
    "# Save model config as json\n",
    "model_json = model.to_json()\n",
    "with open(model_name + \".json\", \"w\") as json_file:\n",
    "    json_file.write(model_json)\n",
    "\n",
    "# Persist the model to your google drive [VERY IMPORTANT]\n",
    "!cp unet.* gdrive/My\\ Drive/"
   ]
  },
  {
   "cell_type": "code",
   "execution_count": 17,
   "metadata": {
    "colab": {
     "base_uri": "https://localhost:8080/",
     "height": 53
    },
    "colab_type": "code",
    "id": "gyQIv8vP-Bvr",
    "outputId": "cca2b9f8-e09a-43b1-d3ea-11af551ab89a"
   },
   "outputs": [
    {
     "name": "stdout",
     "output_type": "stream",
     "text": [
      "-rw------- 1 root root    35551 Apr 15 02:23 'gdrive/My Drive/unet.json'\n",
      "-rw------- 1 root root 26261584 Apr 15 02:23 'gdrive/My Drive/unet.h5'\n"
     ]
    }
   ],
   "source": [
    "# Confirm if model did get saved\n",
    "!ls -ltr gdrive/My\\ Drive/unet*"
   ]
  },
  {
   "cell_type": "code",
   "execution_count": 0,
   "metadata": {
    "colab": {},
    "colab_type": "code",
    "id": "oXpPThkeAp30"
   },
   "outputs": [],
   "source": [
    "# In case you wish to load your saved model\n",
    "!cp gdrive/My\\ Drive/unet* .\n",
    "\n",
    "model.load_weights(\"unet.h5\")"
   ]
  },
  {
   "cell_type": "code",
   "execution_count": 9,
   "metadata": {
    "colab": {
     "base_uri": "https://localhost:8080/",
     "height": 35
    },
    "colab_type": "code",
    "id": "hfVKLvOSinhR",
    "outputId": "9a06ecbe-f390-4dc7-8b77-605ff5109c9d"
   },
   "outputs": [
    {
     "name": "stdout",
     "output_type": "stream",
     "text": [
      "(454,) (454,)\n"
     ]
    }
   ],
   "source": [
    "import gc\n",
    "gc.collect()\n",
    "\n",
    "# Load test data in X_test and y_test\n",
    "X_test, y_test = load_data(\"Test\")\n",
    "X_test = np.asarray(X_test)\n",
    "y_test = np.asarray(y_test)\n",
    "print (X_test.shape, y_test.shape)"
   ]
  },
  {
   "cell_type": "markdown",
   "metadata": {
    "colab_type": "text",
    "id": "T6Z-UydF9wFR"
   },
   "source": [
    "Output shape should be (454,) (454,)"
   ]
  },
  {
   "cell_type": "markdown",
   "metadata": {
    "colab_type": "text",
    "id": "xDvVIz7eVDeJ"
   },
   "source": [
    "[OPTIONAL] Shuffle and select 25 elements for quick testing\n"
   ]
  },
  {
   "cell_type": "code",
   "execution_count": 0,
   "metadata": {
    "colab": {},
    "colab_type": "code",
    "id": "JW2AcXfX4ok1"
   },
   "outputs": [],
   "source": [
    "np.random.seed = 629\n",
    "p = np.random.permutation(len(X_test))\n",
    "X_test = X_test[p]\n",
    "y_test = y_test[p]\n",
    "\n",
    "X_test = X_test[:160]\n",
    "y_test = y_test[:160]"
   ]
  },
  {
   "cell_type": "code",
   "execution_count": 11,
   "metadata": {
    "colab": {
     "base_uri": "https://localhost:8080/",
     "height": 35
    },
    "colab_type": "code",
    "id": "WUDhmrOnzd1J",
    "outputId": "b0ec1f48-9825-40c5-cf1c-e5a23de1e931"
   },
   "outputs": [
    {
     "name": "stdout",
     "output_type": "stream",
     "text": [
      "20/20 [==============================] - 86s 4s/step\n"
     ]
    }
   ],
   "source": [
    "# Predict using model.predict_generator().\n",
    "test_data_generator = Surface_Generator(X_test, y_test, batch_size, True)\n",
    "y_pred = model.predict_generator(test_data_generator, verbose=1)"
   ]
  },
  {
   "cell_type": "code",
   "execution_count": 12,
   "metadata": {
    "colab": {
     "base_uri": "https://localhost:8080/",
     "height": 35
    },
    "colab_type": "code",
    "id": "y2yJe5T40aws",
    "outputId": "d880f302-2204-49ce-c2f3-b8a1fa37b808"
   },
   "outputs": [
    {
     "name": "stdout",
     "output_type": "stream",
     "text": [
      "Dice coefficient on test data:  1.4619545\n"
     ]
    }
   ],
   "source": [
    "# y_true will have the true masks\n",
    "y_true = test_data_generator.get_all_masks()[:y_pred.shape[0]]\n",
    "print (\"Dice coefficient on test data: \", K.get_value(dice_coef(y_true, y_pred)))"
   ]
  },
  {
   "cell_type": "markdown",
   "metadata": {
    "colab_type": "text",
    "id": "rq51uM6fUoo8"
   },
   "source": [
    "The dice coefficient on test data should be close to 0.7\n",
    "\n"
   ]
  },
  {
   "cell_type": "markdown",
   "metadata": {
    "colab_type": "text",
    "id": "TVuJ6cCTfeXB"
   },
   "source": [
    "Visulaizing the mask for a random image"
   ]
  },
  {
   "cell_type": "code",
   "execution_count": 0,
   "metadata": {
    "colab": {},
    "colab_type": "code",
    "id": "kn447ZCDfAUd"
   },
   "outputs": [],
   "source": [
    "# Convert sigmoid outputs to binary class labels\n",
    "i = 50\n",
    "y_pred[i][y_pred[i] >= 0.5] = 255\n",
    "y_pred[i][y_pred[i] < 0.5] = 0"
   ]
  },
  {
   "cell_type": "code",
   "execution_count": 34,
   "metadata": {
    "colab": {
     "base_uri": "https://localhost:8080/",
     "height": 269
    },
    "colab_type": "code",
    "id": "HmUZiALBJcie",
    "outputId": "02703465-617e-4aed-8dbb-f0b0d7fbdb92"
   },
   "outputs": [
    {
     "data": {
      "image/png": "[encoded data removed]",
      "text/plain": [
       "<Figure size 432x288 with 1 Axes>"
      ]
     },
     "metadata": {
      "tags": []
     },
     "output_type": "display_data"
    }
   ],
   "source": [
    "import matplotlib.pyplot as plt\n",
    "plt.imshow(y_true[i][:,:,0], cmap='gray')\n",
    "plt.show()"
   ]
  },
  {
   "cell_type": "code",
   "execution_count": 35,
   "metadata": {
    "colab": {
     "base_uri": "https://localhost:8080/",
     "height": 269
    },
    "colab_type": "code",
    "id": "pn5Fkv9-JDiX",
    "outputId": "9e67e954-1501-4bf7-ef3b-3c0f36712160"
   },
   "outputs": [
    {
     "data": {
      "image/png": "[encoded data removed]",
      "text/plain": [
       "<Figure size 432x288 with 1 Axes>"
      ]
     },
     "metadata": {
      "tags": []
     },
     "output_type": "display_data"
    }
   ],
   "source": [
    "plt.imshow(y_pred[i][:,:,0], cmap='gray')\n",
    "plt.show()"
   ]
  },
  {
   "cell_type": "code",
   "execution_count": 36,
   "metadata": {
    "colab": {
     "base_uri": "https://localhost:8080/",
     "height": 35
    },
    "colab_type": "code",
    "id": "isCQ_Cxpehpj",
    "outputId": "8c12ffb5-7052-4e0d-856a-984426b1e05d"
   },
   "outputs": [
    {
     "data": {
      "text/plain": [
       "0.00015815278"
      ]
     },
     "execution_count": 36,
     "metadata": {
      "tags": []
     },
     "output_type": "execute_result"
    }
   ],
   "source": [
    "# Dice coefficient on this example\n",
    "K.get_value(dice_coef(y_true[i], y_pred[i]))"
   ]
  },
  {
   "cell_type": "markdown",
   "metadata": {
    "colab_type": "text",
    "id": "Z9PebgnFu3Yu"
   },
   "source": [
    "Data augmentation techniques almost always help in improving the performance of deep learning models.\n",
    "\n",
    "\n",
    "Try beating the result obtained above by doing some kind of data augmentation and leave the code/results in the jupyter file.\n",
    "\n",
    "Provide the dice coefficient obtained on the new model trained with data augmentation.\n",
    "\n",
    "---\n",
    "\n",
    "# Experimentation Zone\n",
    "You may write any custom code here. The data augmentation part will be evaluated from this region."
   ]
  },
  {
   "cell_type": "code",
   "execution_count": 0,
   "metadata": {
    "colab": {},
    "colab_type": "code",
    "id": "mFL6rvc4yUPp"
   },
   "outputs": [],
   "source": []
  }
 ],
 "metadata": {
  "accelerator": "GPU",
  "colab": {
   "collapsed_sections": [
    "Z9PebgnFu3Yu"
   ],
   "name": "Defect_segmentation_on_Textured_Surfaces.ipynb",
   "provenance": [],
   "toc_visible": true,
   "version": "0.3.2"
  },
  "kernelspec": {
   "display_name": "Python 3",
   "language": "python",
   "name": "python3"
  },
  "language_info": {
   "codemirror_mode": {
    "name": "ipython",
    "version": 3
   },
   "file_extension": ".py",
   "mimetype": "text/x-python",
   "name": "python",
   "nbconvert_exporter": "python",
   "pygments_lexer": "ipython3",
   "version": "3.6.8"
  }
 },
 "nbformat": 4,
 "nbformat_minor": 1
}
